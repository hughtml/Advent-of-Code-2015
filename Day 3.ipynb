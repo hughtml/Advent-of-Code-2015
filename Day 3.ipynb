{
 "cells": [
  {
   "cell_type": "markdown",
   "source": [
    "Santa is delivering presents to an infinite two-dimensional grid of houses.\n",
    "\n",
    "He begins by delivering a present to the house at his starting location, and then an elf at the North Pole calls him via radio and tells him where to move next. Moves are always exactly one house to the north (^), south (v), east (>), or west (<). After each move, he delivers another present to the house at his new location.\n",
    "\n",
    "However, the elf back at the north pole has had a little too much eggnog, and so his directions are a little off, and Santa ends up visiting some houses more than once. How many houses receive at least one present?\n",
    "\n",
    "For example:\n",
    "\n",
    "- /> delivers presents to 2 houses: one at the starting location, and one to the east.\n",
    "- ^>v< delivers presents to 4 houses in a square, including twice to the house at his starting/ending location.\n",
    "- ^v^v^v^v^v delivers a bunch of presents to some very lucky children at only 2 houses."
   ],
   "metadata": {
    "collapsed": false
   },
   "id": "96b052edf16f29f2"
  },
  {
   "cell_type": "code",
   "execution_count": 6,
   "outputs": [],
   "source": [
    "with open(\"Day3Input.txt\", encoding=\"utf-8\") as file:\n",
    "    input = \"\"\n",
    "    for line in file:\n",
    "        input += line.strip()"
   ],
   "metadata": {
    "collapsed": false,
    "ExecuteTime": {
     "end_time": "2023-11-22T14:19:40.967025Z",
     "start_time": "2023-11-22T14:19:40.943998Z"
    }
   },
   "id": "d05ed3fe5a5a26ba"
  },
  {
   "cell_type": "code",
   "execution_count": 7,
   "outputs": [],
   "source": [
    "directions = []\n",
    "for direction in input:\n",
    "    directions.append(direction)"
   ],
   "metadata": {
    "collapsed": false,
    "ExecuteTime": {
     "end_time": "2023-11-22T14:19:40.974034Z",
     "start_time": "2023-11-22T14:19:40.968223Z"
    }
   },
   "id": "83d2e027f8b4917f"
  },
  {
   "cell_type": "code",
   "execution_count": 8,
   "outputs": [],
   "source": [
    "houses = {(0, 0): 1}\n",
    "current_house = [0, 0]"
   ],
   "metadata": {
    "collapsed": false,
    "ExecuteTime": {
     "end_time": "2023-11-22T14:19:40.978325Z",
     "start_time": "2023-11-22T14:19:40.975402Z"
    }
   },
   "id": "b346ea5ab4510b73"
  },
  {
   "cell_type": "code",
   "execution_count": 9,
   "outputs": [],
   "source": [
    "for direction in directions:\n",
    "    if direction == \">\":\n",
    "        current_house[0] += 1\n",
    "    elif direction == \"<\":\n",
    "        current_house[0] -= 1\n",
    "    elif direction == \"^\":\n",
    "        current_house[1] += 1\n",
    "    elif direction == \"v\":\n",
    "        current_house[1] -= 1\n",
    "    else:\n",
    "        print(\"Oops. Hit a direction I didn't recognise. Ignoring...\")\n",
    "    \n",
    "    current_key = (current_house[0], current_house[1])\n",
    "    if current_key in houses:\n",
    "        houses[current_key] += 1\n",
    "    else:\n",
    "        houses[current_key] = 1"
   ],
   "metadata": {
    "collapsed": false,
    "ExecuteTime": {
     "end_time": "2023-11-22T14:19:40.994280Z",
     "start_time": "2023-11-22T14:19:40.993059Z"
    }
   },
   "id": "2c70b289ca1c2899"
  },
  {
   "cell_type": "code",
   "execution_count": 10,
   "outputs": [
    {
     "name": "stdout",
     "output_type": "stream",
     "text": [
      "The amount of houses which get at least one present is 2592\n"
     ]
    }
   ],
   "source": [
    "houses_with_presents = 0\n",
    "\n",
    "for presents in houses.values():\n",
    "    if presents > 0:\n",
    "        houses_with_presents += 1\n",
    "        \n",
    "print(f\"The amount of houses which get at least one present is {houses_with_presents    }\")"
   ],
   "metadata": {
    "collapsed": false,
    "ExecuteTime": {
     "end_time": "2023-11-22T14:19:41.001021Z",
     "start_time": "2023-11-22T14:19:40.997572Z"
    }
   },
   "id": "964ee238bc4e658e"
  },
  {
   "cell_type": "markdown",
   "source": [
    "The next year, to speed up the process, Santa creates a robot version of himself, Robo-Santa, to deliver presents with him.\n",
    "\n",
    "Santa and Robo-Santa start at the same location (delivering two presents to the same starting house), then take turns moving based on instructions from the elf, who is eggnoggedly reading from the same script as the previous year.\n",
    "\n",
    "This year, how many houses receive at least one present?\n",
    "\n",
    "For example:\n",
    "\n",
    "^v delivers presents to 3 houses, because Santa goes north, and then Robo-Santa goes south.\n",
    "^>v< now delivers presents to 3 houses, and Santa and Robo-Santa end up back where they started.\n",
    "^v^v^v^v^v now delivers presents to 11 houses, with Santa going one direction and Robo-Santa going the other."
   ],
   "metadata": {
    "collapsed": false
   },
   "id": "cdbfe68db171b7f5"
  },
  {
   "cell_type": "code",
   "execution_count": 11,
   "outputs": [],
   "source": [
    "santa_current_house = [0, 0]\n",
    "robo_current_house = [0, 0]\n",
    "\n",
    "houses = {(0, 0): 2}"
   ],
   "metadata": {
    "collapsed": false,
    "ExecuteTime": {
     "end_time": "2023-11-22T14:19:41.004798Z",
     "start_time": "2023-11-22T14:19:41.001547Z"
    }
   },
   "id": "86e15c373c5e2892"
  },
  {
   "cell_type": "code",
   "execution_count": 12,
   "outputs": [],
   "source": [
    "for index, direction in enumerate(directions):\n",
    "    current_key = (0, 0)\n",
    "    if index % 2 == 0:\n",
    "        if direction == \">\":\n",
    "            santa_current_house[0] += 1\n",
    "        elif direction == \"<\":\n",
    "            santa_current_house[0] -= 1\n",
    "        elif direction == \"^\":\n",
    "            santa_current_house[1] += 1\n",
    "        elif direction == \"v\":\n",
    "            santa_current_house[1] -= 1\n",
    "        else:\n",
    "            print(\"Oops. Hit a direction I didn't recognise. Ignoring...\")\n",
    "        current_key = (santa_current_house[0], santa_current_house[1])\n",
    "    else:\n",
    "        if direction == \">\":\n",
    "            robo_current_house[0] += 1\n",
    "        elif direction == \"<\":\n",
    "            robo_current_house[0] -= 1\n",
    "        elif direction == \"^\":\n",
    "            robo_current_house[1] += 1\n",
    "        elif direction == \"v\":\n",
    "            robo_current_house[1] -= 1\n",
    "        else:\n",
    "            print(\"Oops. Hit a direction I didn't recognise. Ignoring...\")\n",
    "        current_key = (robo_current_house[0], robo_current_house[1])\n",
    "\n",
    "    if current_key in houses:\n",
    "        houses[current_key] += 1\n",
    "    else:\n",
    "        houses[current_key] = 1 "
   ],
   "metadata": {
    "collapsed": false,
    "ExecuteTime": {
     "end_time": "2023-11-22T14:19:41.013097Z",
     "start_time": "2023-11-22T14:19:41.011837Z"
    }
   },
   "id": "f6c9177747d2bf63"
  },
  {
   "cell_type": "code",
   "execution_count": 13,
   "outputs": [
    {
     "name": "stdout",
     "output_type": "stream",
     "text": [
      "The amount of houses which get at least one present is 2360\n"
     ]
    }
   ],
   "source": [
    "houses_with_presents = 0\n",
    "\n",
    "for presents in houses.values():\n",
    "    if presents > 0:\n",
    "        houses_with_presents += 1\n",
    "\n",
    "print(f\"The amount of houses which get at least one present is {houses_with_presents    }\")"
   ],
   "metadata": {
    "collapsed": false,
    "ExecuteTime": {
     "end_time": "2023-11-22T14:19:41.040174Z",
     "start_time": "2023-11-22T14:19:41.014409Z"
    }
   },
   "id": "948d93bc9dbcbb6a"
  }
 ],
 "metadata": {
  "kernelspec": {
   "display_name": "Python 3",
   "language": "python",
   "name": "python3"
  },
  "language_info": {
   "codemirror_mode": {
    "name": "ipython",
    "version": 2
   },
   "file_extension": ".py",
   "mimetype": "text/x-python",
   "name": "python",
   "nbconvert_exporter": "python",
   "pygments_lexer": "ipython2",
   "version": "2.7.6"
  }
 },
 "nbformat": 4,
 "nbformat_minor": 5
}
