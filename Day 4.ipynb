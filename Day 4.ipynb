{
 "cells": [
  {
   "cell_type": "markdown",
   "source": [],
   "metadata": {
    "collapsed": false
   },
   "id": "5dbc0a90db3f404d"
  },
  {
   "cell_type": "markdown",
   "source": [
    "Santa needs help mining some AdventCoins (very similar to bitcoins) to use as gifts for all the economically forward-thinking little girls and boys.\n",
    "\n",
    "To do this, he needs to find MD5 hashes which, in hexadecimal, start with at least five zeroes. The input to the MD5 hash is some secret key (your puzzle input, given below) followed by a number in decimal. To mine AdventCoins, you must find Santa the lowest positive number (no leading zeroes: 1, 2, 3, ...) that produces such a hash.\n",
    "\n",
    "For example:\n",
    "\n",
    "If your secret key is abcdef, the answer is 609043, because the MD5 hash of abcdef609043 starts with five zeroes (000001dbbfa...), and it is the lowest such number to do so.\n",
    "If your secret key is pqrstuv, the lowest number it combines with to make an MD5 hash starting with five zeroes is 1048970; that is, the MD5 hash of pqrstuv1048970 looks like 000006136ef...."
   ],
   "metadata": {
    "collapsed": false
   },
   "id": "6fb2ec209074b3eb"
  },
  {
   "cell_type": "code",
   "execution_count": 19,
   "outputs": [],
   "source": [
    "import hashlib as hl\n",
    "\n",
    "def find_md5(full_key):\n",
    "    #encode() changes String to bytes for md5()\n",
    "    result = hl.md5(full_key.encode())\n",
    "    #hexdigest() returns hexidecimal form of encoded data\n",
    "    return result.hexdigest()"
   ],
   "metadata": {
    "collapsed": false,
    "ExecuteTime": {
     "end_time": "2023-11-22T14:52:52.122174Z",
     "start_time": "2023-11-22T14:52:52.086729Z"
    }
   },
   "id": "8e0a8da66efa1a11"
  },
  {
   "cell_type": "code",
   "execution_count": 20,
   "outputs": [],
   "source": [
    "def find_number(secret_key, starting_string):\n",
    "    number = 0\n",
    "    result = \"\"\n",
    "    while result.startswith(starting_string) == False:\n",
    "        number += 1\n",
    "        full_key = secret_key + str(number)\n",
    "        result = find_md5(full_key)\n",
    "    return number"
   ],
   "metadata": {
    "collapsed": false,
    "ExecuteTime": {
     "end_time": "2023-11-22T14:52:52.123500Z",
     "start_time": "2023-11-22T14:52:52.090960Z"
    }
   },
   "id": "7bd883137d4f20aa"
  },
  {
   "cell_type": "code",
   "execution_count": 21,
   "outputs": [
    {
     "name": "stdout",
     "output_type": "stream",
     "text": [
      "117946\n",
      "3938038\n"
     ]
    }
   ],
   "source": [
    "secret_key = input(\"Please enter the secret key:\")\n",
    "#\"ckczppom\"\n",
    "print(find_number(secret_key, \"00000\"))\n",
    "print(find_number(secret_key, \"000000\"))"
   ],
   "metadata": {
    "collapsed": false,
    "ExecuteTime": {
     "end_time": "2023-11-22T14:52:56.385754Z",
     "start_time": "2023-11-22T14:52:52.093798Z"
    }
   },
   "id": "95e21fac9a162bc0"
  }
 ],
 "metadata": {
  "kernelspec": {
   "display_name": "Python 3",
   "language": "python",
   "name": "python3"
  },
  "language_info": {
   "codemirror_mode": {
    "name": "ipython",
    "version": 2
   },
   "file_extension": ".py",
   "mimetype": "text/x-python",
   "name": "python",
   "nbconvert_exporter": "python",
   "pygments_lexer": "ipython2",
   "version": "2.7.6"
  }
 },
 "nbformat": 4,
 "nbformat_minor": 5
}
