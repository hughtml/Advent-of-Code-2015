{
 "cells": [
  {
   "cell_type": "markdown",
   "source": [
    "Because your neighbors keep defeating you in the holiday house decorating contest year after year, you've decided to deploy one million lights in a 1000x1000 grid.\n",
    "\n",
    "Furthermore, because you've been especially nice this year, Santa has mailed you instructions on how to display the ideal lighting configuration.\n",
    "\n",
    "Lights in your grid are numbered from 0 to 999 in each direction; the lights at each corner are at 0,0, 0,999, 999,999, and 999,0. The instructions include whether to turn on, turn off, or toggle various inclusive ranges given as coordinate pairs. Each coordinate pair represents opposite corners of a rectangle, inclusive; a coordinate pair like 0,0 through 2,2 therefore refers to 9 lights in a 3x3 square. The lights all start turned off.\n",
    "\n",
    "To defeat your neighbors this year, all you have to do is set up your lights by doing the instructions Santa sent you in order.\n",
    "\n",
    "For example:\n",
    "\n",
    "turn on 0,0 through 999,999 would turn on (or leave on) every light.\n",
    "toggle 0,0 through 999,0 would toggle the first line of 1000 lights, turning off the ones that were on, and turning on the ones that were off.\n",
    "turn off 499,499 through 500,500 would turn off (or leave off) the middle four lights.\n",
    "After following the instructions, how many lights are lit?"
   ],
   "metadata": {
    "collapsed": false
   },
   "id": "a4aafacbe05d04e"
  },
  {
   "cell_type": "code",
   "execution_count": 1,
   "outputs": [],
   "source": [
    "full_instructions = []\n",
    "\n",
    "with open(\"Day6Input.txt\", encoding=\"utf-8\") as file:\n",
    "    for line in file:\n",
    "        full_instructions.append(line.strip())"
   ],
   "metadata": {
    "collapsed": false,
    "ExecuteTime": {
     "end_time": "2023-11-22T23:49:38.386984Z",
     "start_time": "2023-11-22T23:49:38.296525Z"
    }
   },
   "id": "cda505c4b72b8ae3"
  },
  {
   "cell_type": "code",
   "execution_count": 2,
   "outputs": [],
   "source": [
    "instructions = []\n",
    "\n",
    "for instruction in full_instructions:\n",
    "    if instruction.startswith(\"toggle\"):\n",
    "        temp_instruction = [\"toggle\"]\n",
    "        split_instruction = instruction.split()\n",
    "        first_pos = split_instruction[1].split(\",\")\n",
    "        second_pos = split_instruction[3].split(\",\")\n",
    "        temp_instruction.append(first_pos[0])\n",
    "        temp_instruction.append(first_pos[1])\n",
    "        temp_instruction.append(second_pos[0])\n",
    "        temp_instruction.append(second_pos[1])\n",
    "        instructions.append(temp_instruction)\n",
    "    else:\n",
    "        temp_instruction = []\n",
    "        split_instruction = instruction.split()\n",
    "        temp_instruction.append(split_instruction[1])\n",
    "        first_pos = split_instruction[2].split(\",\")\n",
    "        second_pos = split_instruction[4].split(\",\")\n",
    "        temp_instruction.append(first_pos[0])\n",
    "        temp_instruction.append(first_pos[1])\n",
    "        temp_instruction.append(second_pos[0])\n",
    "        temp_instruction.append(second_pos[1])\n",
    "        instructions.append(temp_instruction)"
   ],
   "metadata": {
    "collapsed": false,
    "ExecuteTime": {
     "end_time": "2023-11-22T23:49:38.388003Z",
     "start_time": "2023-11-22T23:49:38.302524Z"
    }
   },
   "id": "5363e9b637e3cb22"
  },
  {
   "cell_type": "code",
   "execution_count": 3,
   "outputs": [],
   "source": [
    "lights = {}\n",
    "\n",
    "for x in range(0, 1000):\n",
    "    for y in range(0, 1000):\n",
    "        lights[(x, y)] = False"
   ],
   "metadata": {
    "collapsed": false,
    "ExecuteTime": {
     "end_time": "2023-11-22T23:49:38.545441Z",
     "start_time": "2023-11-22T23:49:38.383965Z"
    }
   },
   "id": "5e1ed0203ed3d422"
  },
  {
   "cell_type": "code",
   "execution_count": 4,
   "outputs": [],
   "source": [
    "def follow_instruction(command, x_pos, y_pos):\n",
    "    if command == \"toggle\":\n",
    "        if not lights.get((x_pos, y_pos)):\n",
    "            lights[(x_pos, y_pos)] = True\n",
    "        else:\n",
    "            lights[(x_pos, y_pos)] = False\n",
    "    elif command == \"on\":\n",
    "        lights[(x_pos, y_pos)] = True\n",
    "    else:\n",
    "        lights[(x_pos, y_pos)] = False"
   ],
   "metadata": {
    "collapsed": false,
    "ExecuteTime": {
     "end_time": "2023-11-22T23:49:38.551712Z",
     "start_time": "2023-11-22T23:49:38.546697Z"
    }
   },
   "id": "841d917fc1d97c6c"
  },
  {
   "cell_type": "code",
   "execution_count": 5,
   "outputs": [],
   "source": [
    "def run_instructions():\n",
    "    for instruction in instructions:\n",
    "        for x in range(int(instruction[1]), int(instruction[3]) + 1):\n",
    "            for y in range(int(instruction[2]), int(instruction[4]) + 1):\n",
    "                follow_instruction(instruction[0], x, y)            "
   ],
   "metadata": {
    "collapsed": false,
    "ExecuteTime": {
     "end_time": "2023-11-22T23:49:38.553560Z",
     "start_time": "2023-11-22T23:49:38.551021Z"
    }
   },
   "id": "d87f89c3c9dbcc9c"
  },
  {
   "cell_type": "code",
   "execution_count": 6,
   "outputs": [
    {
     "name": "stdout",
     "output_type": "stream",
     "text": [
      "There are 543903 lights lit after following the instructions\n"
     ]
    }
   ],
   "source": [
    "lights_on = 0\n",
    "run_instructions()\n",
    "\n",
    "for key in lights.keys():\n",
    "    if lights[key]:\n",
    "        lights_on += 1\n",
    "        \n",
    "print(f\"There are {lights_on} lights lit after following the instructions\")"
   ],
   "metadata": {
    "collapsed": false,
    "ExecuteTime": {
     "end_time": "2023-11-22T23:49:42.431125Z",
     "start_time": "2023-11-22T23:49:38.596029Z"
    }
   },
   "id": "ccd95047a03b7200"
  },
  {
   "cell_type": "markdown",
   "source": [
    "You just finish implementing your winning light pattern when you realize you mistranslated Santa's message from Ancient Nordic Elvish.\n",
    "\n",
    "The light grid you bought actually has individual brightness controls; each light can have a brightness of zero or more. The lights all start at zero.\n",
    "\n",
    "The phrase turn on actually means that you should increase the brightness of those lights by 1.\n",
    "\n",
    "The phrase turn off actually means that you should decrease the brightness of those lights by 1, to a minimum of zero.\n",
    "\n",
    "The phrase toggle actually means that you should increase the brightness of those lights by 2.\n",
    "\n",
    "What is the total brightness of all lights combined after following Santa's instructions?\n",
    "\n",
    "For example:\n",
    "\n",
    "turn on 0,0 through 0,0 would increase the total brightness by 1.\n",
    "toggle 0,0 through 999,999 would increase the total brightness by 2000000."
   ],
   "metadata": {
    "collapsed": false
   },
   "id": "70b1bfd9a822b414"
  },
  {
   "cell_type": "code",
   "execution_count": 7,
   "outputs": [],
   "source": [
    "for x in range(0, 1000):\n",
    "    for y in range(0, 1000):\n",
    "        lights[(x, y)] = 0"
   ],
   "metadata": {
    "collapsed": false,
    "ExecuteTime": {
     "end_time": "2023-11-22T23:49:42.573048Z",
     "start_time": "2023-11-22T23:49:42.435051Z"
    }
   },
   "id": "b96cddafeaa81aad"
  },
  {
   "cell_type": "code",
   "execution_count": 8,
   "outputs": [],
   "source": [
    "def follow_instruction_brightness(command, x_pos, y_pos):\n",
    "    if command == \"toggle\":\n",
    "        lights[(x_pos, y_pos)] += 2\n",
    "    elif command == \"on\":\n",
    "        lights[(x_pos, y_pos)] += 1\n",
    "    else:\n",
    "        if lights[(x_pos, y_pos)] >= 1:\n",
    "            lights[(x_pos, y_pos)] -= 1"
   ],
   "metadata": {
    "collapsed": false,
    "ExecuteTime": {
     "end_time": "2023-11-22T23:49:42.578652Z",
     "start_time": "2023-11-22T23:49:42.574198Z"
    }
   },
   "id": "e46cf9f9b0c22967"
  },
  {
   "cell_type": "code",
   "execution_count": 9,
   "outputs": [],
   "source": [
    "def run_instructions_brightness():\n",
    "    for instruction in instructions:\n",
    "        for x in range(int(instruction[1]), int(instruction[3]) + 1):\n",
    "            for y in range(int(instruction[2]), int(instruction[4]) + 1):\n",
    "                follow_instruction_brightness(instruction[0], x, y)"
   ],
   "metadata": {
    "collapsed": false,
    "ExecuteTime": {
     "end_time": "2023-11-22T23:49:42.580487Z",
     "start_time": "2023-11-22T23:49:42.577550Z"
    }
   },
   "id": "c1f1dab13a1fc3ed"
  },
  {
   "cell_type": "code",
   "execution_count": 10,
   "outputs": [
    {
     "name": "stdout",
     "output_type": "stream",
     "text": [
      "The total brightness of all the lights is 14687245\n"
     ]
    }
   ],
   "source": [
    "total_brightness = 0\n",
    "run_instructions_brightness()\n",
    "\n",
    "for key in lights.keys():\n",
    "    total_brightness += lights[key]\n",
    "\n",
    "print(f\"The total brightness of all the lights is {total_brightness}\")"
   ],
   "metadata": {
    "collapsed": false,
    "ExecuteTime": {
     "end_time": "2023-11-22T23:49:46.936352Z",
     "start_time": "2023-11-22T23:49:42.630287Z"
    }
   },
   "id": "970c8d62324a934"
  }
 ],
 "metadata": {
  "kernelspec": {
   "display_name": "Python 3",
   "language": "python",
   "name": "python3"
  },
  "language_info": {
   "codemirror_mode": {
    "name": "ipython",
    "version": 2
   },
   "file_extension": ".py",
   "mimetype": "text/x-python",
   "name": "python",
   "nbconvert_exporter": "python",
   "pygments_lexer": "ipython2",
   "version": "2.7.6"
  }
 },
 "nbformat": 4,
 "nbformat_minor": 5
}
