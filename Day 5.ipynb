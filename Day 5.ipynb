{
 "cells": [
  {
   "cell_type": "markdown",
   "source": [
    "Santa needs help figuring out which strings in his text file are naughty or nice.\n",
    "\n",
    "A nice string is one with all of the following properties:\n",
    "\n",
    "It contains at least three vowels (aeiou only), like aei, xazegov, or aeiouaeiouaeiou.\n",
    "It contains at least one letter that appears twice in a row, like xx, abcdde (dd), or aabbccdd (aa, bb, cc, or dd).\n",
    "It does not contain the strings ab, cd, pq, or xy, even if they are part of one of the other requirements.\n",
    "For example:\n",
    "\n",
    "ugknbfddgicrmopn is nice because it has at least three vowels (u...i...o...), a double letter (...dd...), and none of the disallowed substrings.\n",
    "aaa is nice because it has at least three vowels and a double letter, even though the letters used by different rules overlap.\n",
    "jchzalrnumimnmhp is naughty because it has no double letter.\n",
    "haegwjzuvuyypxyu is naughty because it contains the string xy.\n",
    "dvszwmarrgswjxmb is naughty because it contains only one vowel.\n",
    "How many strings are nice?"
   ],
   "metadata": {
    "collapsed": false
   },
   "id": "28f9ab913f3fd269"
  },
  {
   "cell_type": "code",
   "execution_count": 1,
   "outputs": [],
   "source": [
    "input_strings = []\n",
    "\n",
    "with open(\"Day5Input.txt\", encoding=\"utf-8\") as file:\n",
    "    for line in file:\n",
    "        input_strings.append(line.strip())"
   ],
   "metadata": {
    "collapsed": false,
    "ExecuteTime": {
     "end_time": "2023-11-22T22:12:38.130282Z",
     "start_time": "2023-11-22T22:12:38.064204Z"
    }
   },
   "id": "ea47a702534ce04e"
  },
  {
   "cell_type": "code",
   "execution_count": 2,
   "outputs": [],
   "source": [
    "def check_vowels(string):\n",
    "    vowel_count = 0\n",
    "    for character in string:\n",
    "        if character == \"a\" or character == \"e\" or character == \"i\" or character == \"o\" or character == \"u\":\n",
    "            vowel_count += 1\n",
    "    result = False\n",
    "    if vowel_count >= 3:\n",
    "        result = True\n",
    "    return result"
   ],
   "metadata": {
    "collapsed": false,
    "ExecuteTime": {
     "end_time": "2023-11-22T22:12:38.130599Z",
     "start_time": "2023-11-22T22:12:38.069862Z"
    }
   },
   "id": "590b2d60cb50bcb0"
  },
  {
   "cell_type": "code",
   "execution_count": 3,
   "outputs": [],
   "source": [
    "def check_doubles(string):\n",
    "    has_double = False\n",
    "    for index, character in enumerate(string):\n",
    "        if index != len(string) - 1 and character == string[index + 1]:\n",
    "            has_double = True\n",
    "            break\n",
    "    return has_double"
   ],
   "metadata": {
    "collapsed": false,
    "ExecuteTime": {
     "end_time": "2023-11-22T22:12:38.130647Z",
     "start_time": "2023-11-22T22:12:38.072750Z"
    }
   },
   "id": "4730c73567a3e86"
  },
  {
   "cell_type": "code",
   "execution_count": 4,
   "outputs": [],
   "source": [
    "def check_substring(string):\n",
    "    result = True\n",
    "    if \"ab\" in string or \"cd\" in string or \"pq\" in string or \"xy\" in string:\n",
    "        result = False\n",
    "    return result"
   ],
   "metadata": {
    "collapsed": false,
    "ExecuteTime": {
     "end_time": "2023-11-22T22:12:38.130859Z",
     "start_time": "2023-11-22T22:12:38.075798Z"
    }
   },
   "id": "337d63fc2c60c297"
  },
  {
   "cell_type": "code",
   "execution_count": 5,
   "outputs": [
    {
     "name": "stdout",
     "output_type": "stream",
     "text": [
      "There are 258 nice strings\n"
     ]
    }
   ],
   "source": [
    "nice_strings = []\n",
    "for string in input_strings:\n",
    "    if check_vowels(string) and check_doubles(string) and check_substring(string):\n",
    "        nice_strings.append(string)\n",
    "        \n",
    "print(\"There are \" + str(len(nice_strings)) + \" nice strings\")"
   ],
   "metadata": {
    "collapsed": false,
    "ExecuteTime": {
     "end_time": "2023-11-22T22:12:38.131489Z",
     "start_time": "2023-11-22T22:12:38.081248Z"
    }
   },
   "id": "490b0bc438eb8ec3"
  },
  {
   "cell_type": "markdown",
   "source": [
    "Realizing the error of his ways, Santa has switched to a better model of determining whether a string is naughty or nice. None of the old rules apply, as they are all clearly ridiculous.\n",
    "\n",
    "Now, a nice string is one with all of the following properties:\n",
    "\n",
    "It contains a pair of any two letters that appears at least twice in the string without overlapping, like xyxy (xy) or aabcdefgaa (aa), but not like aaa (aa, but it overlaps).\n",
    "It contains at least one letter which repeats with exactly one letter between them, like xyx, abcdefeghi (efe), or even aaa.\n",
    "For example:\n",
    "\n",
    "qjhvhtzxzqqjkmpb is nice because is has a pair that appears twice (qj) and a letter that repeats with exactly one letter between them (zxz).\n",
    "xxyxx is nice because it has a pair that appears twice and a letter that repeats with one between, even though the letters used by each rule overlap.\n",
    "uurcxstgmygtbstg is naughty because it has a pair (tg) but no repeat with a single letter between them.\n",
    "ieodomkazucvgmuy is naughty because it has a repeating letter with one between (odo), but no pair that appears twice.\n",
    "How many strings are nice under these new rules?"
   ],
   "metadata": {
    "collapsed": false
   },
   "id": "1efe333563e935f1"
  },
  {
   "cell_type": "code",
   "execution_count": 6,
   "outputs": [],
   "source": [
    "def check_repeat_one_between(string):\n",
    "    result = False\n",
    "    for index, character in enumerate(string):\n",
    "        if index <= len(string) - 3 and character == string[index + 2]:\n",
    "            result = True\n",
    "            break\n",
    "    return result"
   ],
   "metadata": {
    "collapsed": false,
    "ExecuteTime": {
     "end_time": "2023-11-22T22:12:38.131544Z",
     "start_time": "2023-11-22T22:12:38.084301Z"
    }
   },
   "id": "90196dcb8759ee2e"
  },
  {
   "cell_type": "code",
   "execution_count": 7,
   "outputs": [],
   "source": [
    "def check_doubles_no_overlap(string):\n",
    "    found_pair = False\n",
    "    pairs = []\n",
    "    for index in range(0, len(string) - 1):\n",
    "        pairs.append(string[index : index + 2])\n",
    "    for pair in pairs:\n",
    "        count = string.count(pair)\n",
    "        if count >= 2:\n",
    "            found_pair = True\n",
    "            break\n",
    "    return found_pair"
   ],
   "metadata": {
    "collapsed": false,
    "ExecuteTime": {
     "end_time": "2023-11-22T22:12:38.131583Z",
     "start_time": "2023-11-22T22:12:38.086903Z"
    }
   },
   "id": "453f7be228ffbf47"
  },
  {
   "cell_type": "code",
   "execution_count": 8,
   "outputs": [
    {
     "name": "stdout",
     "output_type": "stream",
     "text": [
      "There are 53 nice strings\n"
     ]
    }
   ],
   "source": [
    "nice_strings = []\n",
    "for string in input_strings:\n",
    "    if check_doubles_no_overlap(string) and check_repeat_one_between(string):\n",
    "        nice_strings.append(string)\n",
    "\n",
    "print(\"There are \" + str(len(nice_strings)) + \" nice strings\")"
   ],
   "metadata": {
    "collapsed": false,
    "ExecuteTime": {
     "end_time": "2023-11-22T22:12:38.131634Z",
     "start_time": "2023-11-22T22:12:38.093046Z"
    }
   },
   "id": "476321e82b5001e2"
  }
 ],
 "metadata": {
  "kernelspec": {
   "display_name": "Python 3",
   "language": "python",
   "name": "python3"
  },
  "language_info": {
   "codemirror_mode": {
    "name": "ipython",
    "version": 2
   },
   "file_extension": ".py",
   "mimetype": "text/x-python",
   "name": "python",
   "nbconvert_exporter": "python",
   "pygments_lexer": "ipython2",
   "version": "2.7.6"
  }
 },
 "nbformat": 4,
 "nbformat_minor": 5
}
