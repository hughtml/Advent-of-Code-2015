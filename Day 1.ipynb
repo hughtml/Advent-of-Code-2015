{
 "cells": [
  {
   "cell_type": "markdown",
   "source": [
    "Santa is trying to deliver presents in a large apartment building, but he can't find the right floor - the directions he got are a little confusing. He starts on the ground floor (floor 0) and then follows the instructions one character at a time.\n",
    "\n",
    "An opening parenthesis, (, means he should go up one floor, and a closing parenthesis, ), means he should go down one floor.\n",
    "\n",
    "The apartment building is very tall, and the basement is very deep; he will never find the top or bottom floors.\n",
    "\n",
    "For example:\n",
    "\n",
    "(()) and ()() both result in floor 0.\n",
    "((( and (()(()( both result in floor 3.\n",
    "))((((( also results in floor 3.\n",
    "()) and ))( both result in floor -1 (the first basement level).\n",
    "))) and )())()) both result in floor -3.\n",
    "To what floor do the instructions take Santa?"
   ],
   "metadata": {
    "collapsed": false
   },
   "id": "760cecaf9f7d064c"
  },
  {
   "cell_type": "code",
   "execution_count": 1,
   "outputs": [],
   "source": [
    "allowed = \"()\"\n",
    "directions = input(\"Please enter the directions for Santa:\")\n",
    "while not all(char in allowed for char in directions):\n",
    "    directions = input(\"Oops! Santa's directions should only contain ( and ). Please try again:\")"
   ],
   "metadata": {
    "collapsed": false,
    "ExecuteTime": {
     "end_time": "2023-11-21T20:46:41.999026Z",
     "start_time": "2023-11-21T20:46:38.608508Z"
    }
   },
   "id": "5c6db2124111a7b1"
  },
  {
   "cell_type": "code",
   "execution_count": 6,
   "outputs": [
    {
     "name": "stdout",
     "output_type": "stream",
     "text": [
      "Santa needs to go to floor 138\n",
      "He first went into the basement at position 1771\n"
     ]
    }
   ],
   "source": [
    "up_floor = 0\n",
    "down_floor = 0\n",
    "position = 0\n",
    "\n",
    "for count, direction in enumerate(directions):\n",
    "    if direction == \"(\":\n",
    "        up_floor += 1\n",
    "    else:\n",
    "        down_floor -= 1\n",
    "    if up_floor + down_floor == -1 and position == 0:\n",
    "        position = count + 1\n",
    "        \n",
    "final_floor = up_floor + down_floor\n",
    "print(f\"Santa needs to go to floor {final_floor}\")\n",
    "print(f\"He first went into the basement at position {position}\")"
   ],
   "metadata": {
    "collapsed": false,
    "ExecuteTime": {
     "end_time": "2023-11-21T20:59:37.478302Z",
     "start_time": "2023-11-21T20:59:37.474910Z"
    }
   },
   "id": "6610b0ce017cee7"
  }
 ],
 "metadata": {
  "kernelspec": {
   "display_name": "Python 3",
   "language": "python",
   "name": "python3"
  },
  "language_info": {
   "codemirror_mode": {
    "name": "ipython",
    "version": 2
   },
   "file_extension": ".py",
   "mimetype": "text/x-python",
   "name": "python",
   "nbconvert_exporter": "python",
   "pygments_lexer": "ipython2",
   "version": "2.7.6"
  }
 },
 "nbformat": 4,
 "nbformat_minor": 5
}
