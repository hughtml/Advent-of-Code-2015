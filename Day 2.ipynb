{
 "cells": [
  {
   "cell_type": "markdown",
   "source": [
    "The elves are running low on wrapping paper, and so they need to submit an order for more. They have a list of the dimensions (length l, width w, and height h) of each present, and only want to order exactly as much as they need.\n",
    "\n",
    "Fortunately, every present is a box (a perfect right rectangular prism), which makes calculating the required wrapping paper for each gift a little easier: find the surface area of the box, which is 2*l*w + 2*w*h + 2*h*l. The elves also need a little extra paper for each present: the area of the smallest side.\n",
    "\n",
    "For example:\n",
    "\n",
    "A present with dimensions 2x3x4 requires 2*6 + 2*12 + 2*8 = 52 square feet of wrapping paper plus 6 square feet of slack, for a total of 58 square feet.\n",
    "A present with dimensions 1x1x10 requires 2*1 + 2*10 + 2*10 = 42 square feet of wrapping paper plus 1 square foot of slack, for a total of 43 square feet.\n",
    "All numbers in the elves' list are in feet. How many total square feet of wrapping paper should they order?"
   ],
   "metadata": {
    "collapsed": false
   },
   "id": "297382a4444bcb10"
  },
  {
   "cell_type": "code",
   "execution_count": 118,
   "outputs": [],
   "source": [
    "def surface_area(length, width, height):\n",
    "    return (2 * length * width) + (2 * width * height) + (2 * height * length)"
   ],
   "metadata": {
    "collapsed": false,
    "ExecuteTime": {
     "end_time": "2023-11-22T11:43:00.524966Z",
     "start_time": "2023-11-22T11:43:00.431783Z"
    }
   },
   "id": "638159b32ffcb6bb"
  },
  {
   "cell_type": "code",
   "execution_count": 119,
   "outputs": [],
   "source": [
    "def find_slack(length, width, height):\n",
    "    sides = [length * width, width * height, length * height]\n",
    "    smallest = sides[0]\n",
    "    for side in sides:\n",
    "        if side < smallest:\n",
    "            smallest = side\n",
    "    return smallest"
   ],
   "metadata": {
    "collapsed": false,
    "ExecuteTime": {
     "end_time": "2023-11-22T11:43:00.525423Z",
     "start_time": "2023-11-22T11:43:00.433773Z"
    }
   },
   "id": "e6a59b28583d5a1"
  },
  {
   "cell_type": "code",
   "execution_count": 120,
   "outputs": [],
   "source": [
    "with open(\"Day2Input.txt\", encoding=\"utf-8\") as file:\n",
    "    lines = []\n",
    "    for line in file:\n",
    "        values = line.strip().split(\"x\")\n",
    "        for index, value in enumerate(values):\n",
    "            values[index] = int(value)\n",
    "        lines.append(values)"
   ],
   "metadata": {
    "collapsed": false,
    "ExecuteTime": {
     "end_time": "2023-11-22T11:43:00.525539Z",
     "start_time": "2023-11-22T11:43:00.435353Z"
    }
   },
   "id": "87e93dddb8cbf17e"
  },
  {
   "cell_type": "code",
   "execution_count": 121,
   "outputs": [
    {
     "name": "stdout",
     "output_type": "stream",
     "text": [
      "The elves will need 1586300 feet of wrapping paper.\n"
     ]
    }
   ],
   "source": [
    "total_length = 0\n",
    "for line in lines:\n",
    "    total_length += surface_area(line[0], line[1], line[2])\n",
    "    total_length += find_slack(line[0], line[1], line[2])\n",
    "\n",
    "print(f\"The elves will need {total_length} feet of wrapping paper.\")"
   ],
   "metadata": {
    "collapsed": false,
    "ExecuteTime": {
     "end_time": "2023-11-22T11:43:00.525793Z",
     "start_time": "2023-11-22T11:43:00.443038Z"
    }
   },
   "id": "e5ed9aa9981c2a2"
  },
  {
   "cell_type": "markdown",
   "source": [
    "The elves are also running low on ribbon. Ribbon is all the same width, so they only have to worry about the length they need to order, which they would again like to be exact.\n",
    "\n",
    "The ribbon required to wrap a present is the shortest distance around its sides, or the smallest perimeter of any one face. Each present also requires a bow made out of ribbon as well; the feet of ribbon required for the perfect bow is equal to the cubic feet of volume of the present. Don't ask how they tie the bow, though; they'll never tell.\n",
    "\n",
    "For example:\n",
    "\n",
    "A present with dimensions 2x3x4 requires 2+2+3+3 = 10 feet of ribbon to wrap the present plus 2*3*4 = 24 feet of ribbon for the bow, for a total of 34 feet.\n",
    "A present with dimensions 1x1x10 requires 1+1+1+1 = 4 feet of ribbon to wrap the present plus 1*1*10 = 10 feet of ribbon for the bow, for a total of 14 feet.\n",
    "How many total feet of ribbon should they order?"
   ],
   "metadata": {
    "collapsed": false
   },
   "id": "3bdc147adc9164e"
  },
  {
   "cell_type": "code",
   "execution_count": 122,
   "outputs": [],
   "source": [
    "def find_largest_side(sides):\n",
    "    largest = sides[0]\n",
    "    for side in sides:\n",
    "        if side > largest:\n",
    "            largest = side\n",
    "    return largest"
   ],
   "metadata": {
    "collapsed": false,
    "ExecuteTime": {
     "end_time": "2023-11-22T11:43:00.525875Z",
     "start_time": "2023-11-22T11:43:00.448706Z"
    }
   },
   "id": "9a534b8ccf0f1b5"
  },
  {
   "cell_type": "code",
   "execution_count": 123,
   "outputs": [],
   "source": [
    "def find_smallest_sides(sides, largest_side):\n",
    "    smallest_sides = []\n",
    "    sides.sort()\n",
    "    if sides.count(largest_side) == 3:\n",
    "        smallest_sides.append(largest_side)\n",
    "        smallest_sides.append(largest_side)\n",
    "    else:\n",
    "        for index, side in enumerate(sides):\n",
    "            if side != largest_side or (index == len(sides) - 1 and len(smallest_sides) == 1):\n",
    "                smallest_sides.append(side)\n",
    "    return smallest_sides"
   ],
   "metadata": {
    "collapsed": false,
    "ExecuteTime": {
     "end_time": "2023-11-22T11:43:00.525923Z",
     "start_time": "2023-11-22T11:43:00.451506Z"
    }
   },
   "id": "ee1d3cd6f40cdb61"
  },
  {
   "cell_type": "code",
   "execution_count": 124,
   "outputs": [],
   "source": [
    "def perimeter(sides):\n",
    "    return 2 * (sides[0] + sides[1])"
   ],
   "metadata": {
    "collapsed": false,
    "ExecuteTime": {
     "end_time": "2023-11-22T11:43:00.525955Z",
     "start_time": "2023-11-22T11:43:00.454436Z"
    }
   },
   "id": "13a3e5defd956129"
  },
  {
   "cell_type": "code",
   "execution_count": 125,
   "outputs": [],
   "source": [
    "def bow_ribbon(length, width, height):\n",
    "    return length * width * height"
   ],
   "metadata": {
    "collapsed": false,
    "ExecuteTime": {
     "end_time": "2023-11-22T11:43:00.525983Z",
     "start_time": "2023-11-22T11:43:00.457127Z"
    }
   },
   "id": "d106f4c1258fc56"
  },
  {
   "cell_type": "code",
   "execution_count": 126,
   "outputs": [],
   "source": [
    "def wrapping_ribbon(length, width, height):\n",
    "    sides = [length, width, height]\n",
    "    largest = find_largest_side(sides)\n",
    "    smallest_sides = find_smallest_sides(sides, largest)\n",
    "    return perimeter(smallest_sides)"
   ],
   "metadata": {
    "collapsed": false,
    "ExecuteTime": {
     "end_time": "2023-11-22T11:43:00.526025Z",
     "start_time": "2023-11-22T11:43:00.460210Z"
    }
   },
   "id": "27b8510617849446"
  },
  {
   "cell_type": "code",
   "execution_count": 127,
   "outputs": [
    {
     "name": "stdout",
     "output_type": "stream",
     "text": [
      "The elves will need 3737498 feet of ribbon\n"
     ]
    }
   ],
   "source": [
    "total_ribbon = 0\n",
    "for line in lines:\n",
    "    total_ribbon += bow_ribbon(line[0], line[1], line[2])\n",
    "    total_ribbon += wrapping_ribbon(line[0], line[1], line[2])\n",
    "    \n",
    "print(f\"The elves will need {total_ribbon} feet of ribbon\")"
   ],
   "metadata": {
    "collapsed": false,
    "ExecuteTime": {
     "end_time": "2023-11-22T11:43:00.526236Z",
     "start_time": "2023-11-22T11:43:00.464174Z"
    }
   },
   "id": "f76543c22857ffc9"
  }
 ],
 "metadata": {
  "kernelspec": {
   "display_name": "Python 3",
   "language": "python",
   "name": "python3"
  },
  "language_info": {
   "codemirror_mode": {
    "name": "ipython",
    "version": 2
   },
   "file_extension": ".py",
   "mimetype": "text/x-python",
   "name": "python",
   "nbconvert_exporter": "python",
   "pygments_lexer": "ipython2",
   "version": "2.7.6"
  }
 },
 "nbformat": 4,
 "nbformat_minor": 5
}
